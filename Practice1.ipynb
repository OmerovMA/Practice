{
  "metadata": {
    "language_info": {
      "codemirror_mode": {
        "name": "python",
        "version": 3
      },
      "file_extension": ".py",
      "mimetype": "text/x-python",
      "name": "python",
      "nbconvert_exporter": "python",
      "pygments_lexer": "ipython3",
      "version": "3.8"
    },
    "kernelspec": {
      "name": "python",
      "display_name": "Python (Pyodide)",
      "language": "python"
    }
  },
  "nbformat_minor": 4,
  "nbformat": 4,
  "cells": [
    {
      "cell_type": "code",
      "source": "import matplotlib.pyplot as plt\nfrom sklearn.linear_model import LogisticRegression\nfrom sklearn import datasets\nfrom sklearn.inspection import DecisionBoundaryDisplay\n\niris = datasets.load_iris()\nX = iris.data[:, :2] \nY = iris.target\n\nlogreg = LogisticRegression(C=1e5)\nlogreg.fit(X, Y)\n\n_, ax = plt.subplots(figsize=(4, 3))\nDecisionBoundaryDisplay.from_estimator(\n    logreg,\n    X,\n    cmap=plt.cm.Paired,\n    ax=ax,\n    response_method=\"predict\",\n    plot_method=\"pcolormesh\",\n    shading=\"auto\",\n    xlabel=\"Sepal length\",\n    ylabel=\"Sepal width\",\n    eps=0.5,\n)\n\nplt.scatter(X[:, 0], X[:, 1], c=Y, edgecolors=\"k\", cmap=plt.cm.Paired)\n\nplt.xticks(())\nplt.yticks(())\n\nplt.show()",
      "metadata": {},
      "execution_count": null,
      "outputs": []
    }
  ]
}